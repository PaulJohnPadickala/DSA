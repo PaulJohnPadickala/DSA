{
 "cells": [
  {
   "cell_type": "code",
   "execution_count": 1,
   "id": "fcb8834f",
   "metadata": {},
   "outputs": [],
   "source": [
    "import pandas as pd"
   ]
  },
  {
   "cell_type": "code",
   "execution_count": 2,
   "id": "d71fed1a",
   "metadata": {},
   "outputs": [],
   "source": [
    "df = pd.read_csv(r\"C:\\Users\\paulj\\OneDrive\\Desktop\\Coding\\DSA\\Assignment 3\\StudentsPerformance.csv\")"
   ]
  },
  {
   "cell_type": "markdown",
   "id": "0a9a6109",
   "metadata": {},
   "source": [
    "### Males and females participated in the test"
   ]
  },
  {
   "cell_type": "code",
   "execution_count": 3,
   "id": "2b6fa46d",
   "metadata": {},
   "outputs": [
    {
     "name": "stdout",
     "output_type": "stream",
     "text": [
      "Number of males: 482\n",
      "Number of females: 518\n"
     ]
    }
   ],
   "source": [
    "gender_counts = df['gender'].value_counts()\n",
    "print(\"Number of males:\", gender_counts['male'])\n",
    "print(\"Number of females:\", gender_counts['female'])"
   ]
  },
  {
   "cell_type": "markdown",
   "id": "1aaab59e",
   "metadata": {},
   "source": [
    "### Parental level of education"
   ]
  },
  {
   "cell_type": "code",
   "execution_count": 4,
   "id": "24f11b97",
   "metadata": {},
   "outputs": [
    {
     "name": "stdout",
     "output_type": "stream",
     "text": [
      "Parental level of education:\n",
      "some college          226\n",
      "associate's degree    222\n",
      "high school           196\n",
      "some high school      179\n",
      "bachelor's degree     118\n",
      "master's degree        59\n",
      "Name: parental level of education, dtype: int64\n"
     ]
    }
   ],
   "source": [
    "parental_education_counts = df['parental level of education'].value_counts()\n",
    "print(\"Parental level of education:\")\n",
    "print(parental_education_counts)"
   ]
  },
  {
   "cell_type": "markdown",
   "id": "4ff2d1ba",
   "metadata": {},
   "source": [
    "### Scores the most on average"
   ]
  },
  {
   "cell_type": "code",
   "execution_count": 14,
   "id": "205baa2a",
   "metadata": {},
   "outputs": [
    {
     "name": "stdout",
     "output_type": "stream",
     "text": [
      "Average scores based on gender:\n",
      "        math score  reading score  writing score\n",
      "gender                                          \n",
      "female   63.376448      72.590734      72.467181\n",
      "male     68.821577      65.545643      63.446058\n",
      "Average scores based on test preparation course:\n",
      "                         math score  reading score  writing score\n",
      "test preparation course                                          \n",
      "completed                  69.96648      74.175978      74.684358\n",
      "none                       63.78972      66.417445      64.457944\n"
     ]
    },
    {
     "name": "stderr",
     "output_type": "stream",
     "text": [
      "C:\\Users\\paulj\\AppData\\Local\\Temp\\ipykernel_30956\\3452061995.py:1: FutureWarning: Indexing with multiple keys (implicitly converted to a tuple of keys) will be deprecated, use a list instead.\n",
      "  gender_average_scores = df.groupby('gender')['math score', 'reading score', 'writing score'].mean()\n",
      "C:\\Users\\paulj\\AppData\\Local\\Temp\\ipykernel_30956\\3452061995.py:4: FutureWarning: Indexing with multiple keys (implicitly converted to a tuple of keys) will be deprecated, use a list instead.\n",
      "  prep_average_scores = df.groupby('test preparation course')['math score', 'reading score', 'writing score'].mean()\n"
     ]
    }
   ],
   "source": [
    "gender_average_scores = df.groupby('gender')['math score', 'reading score', 'writing score'].mean()\n",
    "print(\"Average scores based on gender:\")\n",
    "print(gender_average_scores)\n",
    "prep_average_scores = df.groupby('test preparation course')['math score', 'reading score', 'writing score'].mean()\n",
    "print(\"Average scores based on test preparation course:\")\n",
    "print(prep_course_average_scores)"
   ]
  },
  {
   "cell_type": "markdown",
   "id": "e773ce6c",
   "metadata": {},
   "source": [
    "### Score Variation"
   ]
  },
  {
   "cell_type": "code",
   "execution_count": 13,
   "id": "4a43381f",
   "metadata": {},
   "outputs": [
    {
     "name": "stdout",
     "output_type": "stream",
     "text": [
      "Scoring variation based on gender:\n",
      "        math score  reading score  writing score\n",
      "gender                                          \n",
      "female   16.029928      14.411018      14.844842\n",
      "male     14.556411      14.149594      14.227225\n",
      "Scoring variation based on test preparation course:\n",
      "                         math score  reading score  writing score\n",
      "test preparation course                                          \n",
      "completed                 14.521847      13.537572      13.236412\n",
      "none                      15.705689      14.608896      15.041667\n"
     ]
    },
    {
     "name": "stderr",
     "output_type": "stream",
     "text": [
      "C:\\Users\\paulj\\AppData\\Local\\Temp\\ipykernel_30956\\2658615537.py:1: FutureWarning: Indexing with multiple keys (implicitly converted to a tuple of keys) will be deprecated, use a list instead.\n",
      "  gender_scoring_variation = df.groupby('gender')['math score', 'reading score', 'writing score'].std()\n",
      "C:\\Users\\paulj\\AppData\\Local\\Temp\\ipykernel_30956\\2658615537.py:4: FutureWarning: Indexing with multiple keys (implicitly converted to a tuple of keys) will be deprecated, use a list instead.\n",
      "  prep_scoring_variation = df.groupby('test preparation course')['math score', 'reading score', 'writing score'].std()\n"
     ]
    }
   ],
   "source": [
    "gender_scoring_variation = df.groupby('gender')['math score', 'reading score', 'writing score'].std()\n",
    "print(\"Scoring variation based on gender:\")\n",
    "print(gender_scoring_variation)\n",
    "prep_scoring_variation = df.groupby('test preparation course')['math score', 'reading score', 'writing score'].std()\n",
    "print(\"Scoring variation based on test preparation course:\")\n",
    "print(prep_course_scoring_variation)"
   ]
  },
  {
   "cell_type": "markdown",
   "id": "b74b64a7",
   "metadata": {},
   "source": [
    "### Top 25% of students"
   ]
  },
  {
   "cell_type": "code",
   "execution_count": 20,
   "id": "5520b1e0",
   "metadata": {},
   "outputs": [
    {
     "name": "stdout",
     "output_type": "stream",
     "text": [
      "Bonus points for the top 25% of students:\n",
      "     gender race/ethnicity parental level of education         lunch  \\\n",
      "414  female        group A                 high school  free/reduced   \n",
      "415  female        group B             master's degree  free/reduced   \n",
      "416  female        group B           bachelor's degree  free/reduced   \n",
      "417  female        group B             master's degree      standard   \n",
      "418  female        group B                 high school      standard   \n",
      "..      ...            ...                         ...           ...   \n",
      "995    male        group E                some college      standard   \n",
      "996    male        group A                some college      standard   \n",
      "997    male        group D                some college      standard   \n",
      "998    male        group E          associate's degree  free/reduced   \n",
      "999    male        group E           bachelor's degree      standard   \n",
      "\n",
      "    test preparation course  math score  reading score  writing score  \n",
      "414               completed          77             88             85  \n",
      "415               completed          77             97             94  \n",
      "416                    none          77             85             87  \n",
      "417                    none          77             90             84  \n",
      "418               completed          77             82             89  \n",
      "..                      ...         ...            ...            ...  \n",
      "995               completed          99             87             81  \n",
      "996               completed         100             96             86  \n",
      "997               completed         100             97             99  \n",
      "998               completed         100            100             93  \n",
      "999               completed         100            100            100  \n",
      "\n",
      "[255 rows x 8 columns]\n"
     ]
    }
   ],
   "source": [
    "math_score_cutoff = df['math score'].quantile(0.75)\n",
    "top_25_percent_students = df[df['math score'] >= math_score_cutoff]\n",
    "print(\"Bonus points for the top 25% of students:\")\n",
    "print(top_25_percent_students)"
   ]
  },
  {
   "cell_type": "code",
   "execution_count": null,
   "id": "92f33093",
   "metadata": {},
   "outputs": [],
   "source": []
  }
 ],
 "metadata": {
  "kernelspec": {
   "display_name": "Python 3 (ipykernel)",
   "language": "python",
   "name": "python3"
  },
  "language_info": {
   "codemirror_mode": {
    "name": "ipython",
    "version": 3
   },
   "file_extension": ".py",
   "mimetype": "text/x-python",
   "name": "python",
   "nbconvert_exporter": "python",
   "pygments_lexer": "ipython3",
   "version": "3.10.9"
  }
 },
 "nbformat": 4,
 "nbformat_minor": 5
}
